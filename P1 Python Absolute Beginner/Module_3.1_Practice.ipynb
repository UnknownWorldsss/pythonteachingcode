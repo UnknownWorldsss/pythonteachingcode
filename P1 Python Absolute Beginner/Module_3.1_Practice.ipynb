{
 "cells": [
  {
   "cell_type": "markdown",
   "metadata": {},
   "source": [
    "# P1M3: Module 3 Practice\n",
    "## Conditionals\n",
    "<font size=\"5\" color=\"#00A0B2\"  face=\"verdana\"> <B>Student will be able to</B></font>\n",
    "- **control code flow with `if`... `else` conditional logic**\n",
    "  - using Boolean string methods (`.isupper(), .isalpha(), .startswith()...`)\n",
    "  - using comparision (`>, <, >=, <=, ==, !=`)\n",
    "  - using Strings in comparisons  \n",
    "\n",
    "## `if else`\n"
   ]
  },
  {
   "cell_type": "code",
   "execution_count": 7,
   "metadata": {},
   "outputs": [
    {
     "name": "stdout",
     "output_type": "stream",
     "text": [
      "Input your age (use only whole numbers): 23\n",
      "Age's first type is:  <class 'int'>\n",
      "Age's second type is:  <class 'int'>\n",
      "In ten years you will be 33.\n"
     ]
    }
   ],
   "source": [
    "# [ ] input a variable: age as digit and cast to int\n",
    "# if age greater than or equal to 12 then print message on age in 10 years \n",
    "# or else print message \"It is good to be\" age\n",
    "age = int(input(\"Input your age (use only whole numbers): \"))\n",
    "print(\"Age's first type is: \",type(age))\n",
    "age = int(age)\n",
    "print(\"Age's second type is: \",type(age))\n",
    "\n",
    "if age >= 12:\n",
    "    print(\"In ten years you will be \"+str(age+10)+\".\")\n",
    "else:\n",
    "    print(\"It is good to be \"+str(age)+\".\")\n",
    "\n",
    "\n",
    "\n"
   ]
  },
  {
   "cell_type": "code",
   "execution_count": 4,
   "metadata": {
    "collapsed": true
   },
   "outputs": [
    {
     "name": "stdout",
     "output_type": "stream",
     "text": [
      "True\n",
      "3\n"
     ]
    }
   ],
   "source": [
    "# [ ] input a number \n",
    "# if number IS a digit string then cast to int\n",
    "# print number \"greater than 100 is\" True/False\n",
    "# if number is NOT a digit string then message the user that \"only int is accepted\"\n",
    "\n",
    "print(\"Dominic\".isalpha())\n",
    "my_var = \"123\"\n",
    "\n",
    "print(len(my_var))\n"
   ]
  },
  {
   "cell_type": "markdown",
   "metadata": {},
   "source": [
    "### Guessing a letter A-Z  \n",
    "**check_guess()** takes 2 string arguments: **letter and guess** (both expect single alphabetical character)   \n",
    "    - if guess is not an alpha character print invalid and return False\n",
    "    - test and print if guess is \"high\" or \"low\" and return False\n",
    "    - test and print if guess is \"correct\" and return True"
   ]
  },
  {
   "cell_type": "code",
   "execution_count": 9,
   "metadata": {
    "collapsed": true
   },
   "outputs": [
    {
     "name": "stdout",
     "output_type": "stream",
     "text": [
      "Low\n",
      "Invalid - not alphabetical\n",
      "Correct\n",
      "On the third try! Sortta slow.\n"
     ]
    }
   ],
   "source": [
    "# [ ] create check_guess()\n",
    "def check_guess(letter,guess):\n",
    "    guess = str(guess)\n",
    "    if guess.isalpha():\n",
    "        #guess is alphabetical letters\n",
    "        if len(guess)==1:\n",
    "            #guess is one character\n",
    "            #TODO check the guess\n",
    "            if guess == letter:\n",
    "                print(\"Correct\")\n",
    "                return True\n",
    "            elif guess > letter:\n",
    "                print(\"Low\")\n",
    "                return False\n",
    "            elif guess < letter:\n",
    "                print(\"High\")\n",
    "                return False\n",
    "            else:\n",
    "                print(\"unhandled exception\")\n",
    "                return False\n",
    "        else:\n",
    "            print(\"Invalid - more than one character\")\n",
    "            return False\n",
    "    else:\n",
    "        print(\"Invalid - not alphabetical\")\n",
    "        return False\n",
    "    \n",
    "def letter_game(correct_answer):\n",
    "    this_guess = input(\"Guess the letter (provide one letter): \")\n",
    "    if True == check_guess(correct_answer,this_guess):\n",
    "        print(\"On the first try! What a mensch.\")\n",
    "    else:\n",
    "        #second guess\n",
    "        this_guess = input(\"Guess the letter (provide one letter): \")\n",
    "        if True == check_guess(correct_answer,this_guess):\n",
    "            print(\"On the second try! What a mensch.\")\n",
    "        else:\n",
    "        #third guess\n",
    "            this_guess = input(\"Guess the letter (provide one letter): \")\n",
    "            if True == check_guess(correct_answer,this_guess):\n",
    "                print(\"On the third try! Sortta slow.\")\n",
    "            else:\n",
    "                print(\"You lose.\")\n",
    "\n",
    "letter_game(\"A\")"
   ]
  },
  {
   "cell_type": "code",
   "execution_count": 6,
   "metadata": {
    "collapsed": true
   },
   "outputs": [
    {
     "ename": "NameError",
     "evalue": "name 'check_guess' is not defined",
     "output_type": "error",
     "traceback": [
      "\u001b[31m---------------------------------------------------------------------------\u001b[39m",
      "\u001b[31mNameError\u001b[39m                                 Traceback (most recent call last)",
      "\u001b[36mCell\u001b[39m\u001b[36m \u001b[39m\u001b[32mIn[6]\u001b[39m\u001b[32m, line 3\u001b[39m\n\u001b[32m      1\u001b[39m \u001b[38;5;66;03m# [ ] call check_guess with user input\u001b[39;00m\n\u001b[32m      2\u001b[39m userguess = \u001b[38;5;28minput\u001b[39m(\u001b[33m\"\u001b[39m\u001b[33mGuess the letter (provide one letter): \u001b[39m\u001b[33m\"\u001b[39m)\n\u001b[32m----> \u001b[39m\u001b[32m3\u001b[39m \u001b[43mcheck_guess\u001b[49m(\u001b[33m\"\u001b[39m\u001b[33mA\u001b[39m\u001b[33m\"\u001b[39m,userguess)\n",
      "\u001b[31mNameError\u001b[39m: name 'check_guess' is not defined"
     ]
    }
   ],
   "source": [
    "# [ ] call check_guess with user input\n",
    "userguess = input(\"Guess the letter (provide one letter): \")\n",
    "check_guess(\"A\",userguess)\n"
   ]
  },
  {
   "cell_type": "markdown",
   "metadata": {},
   "source": [
    "### Letter Guess\n",
    "**create letter_guess() function that gives user 3 guesses**\n",
    "- takes a letter character argument for the answer letter\n",
    "- gets user input for letter guess  \n",
    "- calls check_guess() with answer and guess\n",
    "- End letter_guess if \n",
    "    - check_guess() equals True, return True  \n",
    "    - or after 3 failed attempts, return False"
   ]
  },
  {
   "cell_type": "code",
   "execution_count": null,
   "metadata": {
    "collapsed": true
   },
   "outputs": [],
   "source": [
    "# [ ] create letter_guess() function, call the function to test\n",
    "def letter_game(correct_answer):\n",
    "    this_guess = input(\"Guess the letter (provide one letter): \")\n",
    "    if True == check_guess(correct_answer,this_guess):\n",
    "        print(\"On the first try! What a mensch.\")\n",
    "    else:\n",
    "        #second guess\n",
    "        this_guess = input(\"Guess the letter (provide one letter): \")\n",
    "        if True == check_guess(correct_answer,this_guess):\n",
    "            print(\"On the second try! What a mensch.\")\n",
    "        else:\n",
    "        #third guess\n",
    "            this_guess = input(\"Guess the letter (provide one letter): \")\n",
    "            if True == check_guess(correct_answer,this_guess):\n",
    "                print(\"On the third try! Sortta slow.\")\n",
    "            else:\n",
    "                print(\"You lose.\")\n",
    "\n"
   ]
  },
  {
   "cell_type": "markdown",
   "metadata": {},
   "source": [
    "### Pet Conversation\n",
    "**ask the user for a sentence about a pet and then reply**  \n",
    "- get user input in variable: about_pet\n",
    "- using a series of **if** statements respond with appropriate conversation\n",
    "  - check if \"dog\" is in the string about_pet (sample reply \"Ah, a dog\")\n",
    "  - check if \"cat\" is in the string about_pet\n",
    "  - check if 1 or more animal is in string about_pet\n",
    "- no need for **else**'s\n",
    "- finish with thanking for the story"
   ]
  },
  {
   "cell_type": "code",
   "execution_count": null,
   "metadata": {
    "collapsed": true
   },
   "outputs": [],
   "source": [
    "# [ ] complete pet conversation\n",
    "about_pet = input(\"Do you have a pet? (yes/no): \")\n",
    "if about_pet.lower() == \"yes\":\n",
    "    pet_type = input(\"What type of pet do you have? (dog/cat/other): \")\n",
    "    if pet_type.lower() == \"dog\":\n",
    "        dog_name = input(\"What is your dog's name?: \")\n",
    "        print(dog_name + \" is a great name for a dog!\")\n",
    "    elif pet_type.lower() == \"cat\":\n",
    "        cat_name = input(\"What is your cat's name?: \")\n",
    "        print(cat_name + \" is a lovely name for a cat!\")\n",
    "    else:\n",
    "        other_pet = input(\"What kind of pet do you have?: \")\n",
    "        print(\"Wow, a \" + other_pet + \"! That's unique!\")\n",
    "else:\n",
    "    print(\"No worries! Pets are a big responsibility.\")\n"
   ]
  },
  {
   "cell_type": "markdown",
   "metadata": {},
   "source": [
    "# Module 3 Practice 2\n",
    "## conditionals, type, and mathematics extended   \n",
    "&nbsp;\n",
    "<font size=\"5\" color=\"#00A0B2\"  face=\"verdana\"> <B>Student will be able to</B></font>  \n",
    "- code more than two choices using **`elif`** \n",
    "- gather numeric input using type casting  \n",
    "- perform subtraction, multiplication and division operations in code  &nbsp;  \n"
   ]
  },
  {
   "cell_type": "markdown",
   "metadata": {},
   "source": [
    "# &nbsp;  \n",
    "<font size=\"6\" color=\"#B24C00\"  face=\"verdana\"> <B>Tasks</B></font>"
   ]
  },
  {
   "cell_type": "markdown",
   "metadata": {},
   "source": [
    "### Rainbow colors\n",
    "ask for input of a favorite rainbow color first letter: ROYGBIV  \n",
    "\n",
    "Using `if`, `elif`, and `else`:  \n",
    "- print the color matching the letter  \n",
    "    - R = Red  \n",
    "    - O = Orange  \n",
    "    - Y = Yellow  \n",
    "    - G = Green\n",
    "    - B = Blue\n",
    "    - I = Indigo\n",
    "    - V = Violet\n",
    "    - else print \"no match\"\n"
   ]
  },
  {
   "cell_type": "code",
   "execution_count": null,
   "metadata": {},
   "outputs": [],
   "source": [
    "# [ ] complete rainbow colors\n",
    "favorite_color = input(\"What is your favorite color? (red/orange/yellow/green/blue/indigo/violet): \")\n",
    "if favorite_color.lower() == \"red\":\n",
    "    print(\"Red is the color of passion and energy!\")\n",
    "elif favorite_color.lower() == \"orange\":\n",
    "    print(\"Orange is vibrant and full of life!\")\n",
    "elif favorite_color.lower() == \"yellow\":\n",
    "    print(\"Yellow is bright and cheerful!\")\n",
    "elif favorite_color.lower() == \"green\":\n",
    "    print(\"Green symbolizes nature and tranquility!\")\n",
    "elif favorite_color.lower() == \"blue\":\n",
    "    print(\"Blue is calming and serene!\")\n",
    "elif favorite_color.lower() == \"indigo\":\n",
    "    print(\"Indigo is deep and mysterious!\")\n",
    "elif favorite_color.lower() == \"violet\":\n",
    "    print(\"Violet is royal and imaginative!\")\n",
    "else:\n",
    "    print(\"That's an interesting choice! Every color is special in its own way.\")\n",
    "\n"
   ]
  },
  {
   "cell_type": "code",
   "execution_count": null,
   "metadata": {},
   "outputs": [],
   "source": [
    "# [ ] make the code above into a function rainbow_color() that has a string parameter, \n",
    "# get input and call the function and return the matching color as a string or \"no match\" message.\n",
    "# Call the function and print the return string.\n",
    "def rainbow_color(favorite_color):\n",
    "    if favorite_color.lower() == \"red\":\n",
    "        return \"Red is the color of passion and energy!\"\n",
    "    elif favorite_color.lower() == \"orange\":\n",
    "        return \"Orange is vibrant and full of life!\"\n",
    "    elif favorite_color.lower() == \"yellow\":\n",
    "        return \"Yellow is bright and cheerful!\"\n",
    "    elif favorite_color.lower() == \"green\":\n",
    "        return \"Green symbolizes nature and tranquility!\"\n",
    "    elif favorite_color.lower() == \"blue\":\n",
    "        return \"Blue is calming and serene!\"\n",
    "    elif favorite_color.lower() == \"indigo\":\n",
    "        return \"Indigo is deep and mysterious!\"\n",
    "    elif favorite_color.lower() == \"violet\":\n",
    "        return \"Violet is royal and imaginative!\"\n",
    "    else:\n",
    "        return \"That's an interesting choice! Every color is special in its own way.\"\n",
    "user_color = input(\"What is your favorite color? (red/orange/yellow/green/blue/indigo/violet): \")\n",
    "print(rainbow_color(user_color))\n"
   ]
  },
  {
   "cell_type": "markdown",
   "metadata": {},
   "source": [
    "# &nbsp;  \n",
    "**Create function age_20() that adds or subtracts 20 from your age for a return value based on current age** (use `if`) \n",
    "- call the funtion with user input and then use the return value in a sentence  \n",
    "example `age_20(25)` returns **5**: \n",
    "> \"5 years old, 20 years difference from now\""
   ]
  },
  {
   "cell_type": "code",
   "execution_count": 16,
   "metadata": {},
   "outputs": [
    {
     "name": "stdout",
     "output_type": "stream",
     "text": [
      "5 years difference from now\n"
     ]
    }
   ],
   "source": [
    "# [ ] complete age_20()\n",
    "def age_20(age):\n",
    "    if age == 20:\n",
    "        return \"You are 20 years old!\"\n",
    "    elif age != 20:\n",
    "        return int(age) - 20\n",
    "    else:\n",
    "        return \"Invalid input\"\n",
    "user_age = int(input(\"Enter your age: \"))\n",
    "result = age_20(user_age)\n",
    "print(str(result) + \" years difference from now\")\n"
   ]
  },
  {
   "cell_type": "markdown",
   "metadata": {},
   "source": [
    "**create a function rainbow_or_age that takes a string argument**\n",
    "- if argument is a digit return the value of calling age_20() with the str value cast as **`int`** \n",
    "- if argument is an alphabetical character return the value of calling rainbow_color() with the str\n",
    "- if neither return FALSE"
   ]
  },
  {
   "cell_type": "code",
   "execution_count": null,
   "metadata": {},
   "outputs": [],
   "source": [
    "# [ ]  create rainbow_or_age()\n",
    "def rainbow_or_age(input):  \n",
    "    if input.isalpha():\n",
    "        return rainbow_color(input)\n",
    "    elif input.isdigit():\n",
    "        return age_20(int(input))\n",
    "    else:\n",
    "        return \"Invalid input, please enter a color or age as a number.\"\n",
    "print(rainbow_or_age(\"blue\"))"
   ]
  },
  {
   "cell_type": "code",
   "execution_count": 18,
   "metadata": {},
   "outputs": [
    {
     "name": "stdout",
     "output_type": "stream",
     "text": [
      "10\n"
     ]
    }
   ],
   "source": [
    "# [ ]  add 2 numbers from input using a cast to integer and display the answer \n",
    "print(int(input(\"Enter first number to add: \")) + int(input(\"Enter second number to add: \")))\n",
    "\n"
   ]
  },
  {
   "cell_type": "code",
   "execution_count": 19,
   "metadata": {},
   "outputs": [
    {
     "name": "stdout",
     "output_type": "stream",
     "text": [
      "The answer is 55555\n"
     ]
    }
   ],
   "source": [
    "# [ ] Multiply 2 numbers from input using cast and save the answer as part of a string \"the answer is...\"\n",
    "# display the string using print\n",
    "print(\"The answer is \" + str(input(\"Enter first number to multiply: \") * int(input(\"Enter second number to multiply: \"))))\n"
   ]
  },
  {
   "cell_type": "code",
   "execution_count": 20,
   "metadata": {},
   "outputs": [
    {
     "name": "stdout",
     "output_type": "stream",
     "text": [
      "42.5\n"
     ]
    }
   ],
   "source": [
    "# [ ] get input of 2 numbers and display the average: (num1 + num2) divided by 2\n",
    "print((int(input(\"Enter first number: \")) + int(input(\"Enter second number: \"))) / 2)\n"
   ]
  },
  {
   "cell_type": "code",
   "execution_count": null,
   "metadata": {},
   "outputs": [],
   "source": [
    "# [ ] get input of 2 numbers and subtract the largest from the smallest (use an if statement to see which is larger)\n",
    "# show the answer\n",
    "num1 = int(input(\"Enter first number: \"))\n",
    "num2 = int(input(\"Enter second number: \"))\n",
    "if num1 > num2:\n",
    "    print(num1 - num2)\n",
    "else:\n",
    "    print(num2 - num1)\n"
   ]
  },
  {
   "cell_type": "code",
   "execution_count": null,
   "metadata": {},
   "outputs": [],
   "source": [
    "# [ ] Divide a larger number by a smaller number and print the integer part of the result\n",
    "# don't divide by zero! if a zero is input make the result zero\n",
    "# [ ] cast the answer to an integer to cut off the decimals and print the result\n",
    "num1 = 25/5\n",
    "print(int(num1))"
   ]
  },
  {
   "cell_type": "markdown",
   "metadata": {
    "collapsed": true
   },
   "source": [
    "[Terms of use](http://go.microsoft.com/fwlink/?LinkID=206977) &nbsp; [Privacy & cookies](https://go.microsoft.com/fwlink/?LinkId=521839) &nbsp; © 2017 Microsoft"
   ]
  }
 ],
 "metadata": {
  "anaconda-cloud": {},
  "kernelspec": {
   "display_name": "Python 3",
   "language": "python",
   "name": "python3"
  },
  "language_info": {
   "codemirror_mode": {
    "name": "ipython",
    "version": 3
   },
   "file_extension": ".py",
   "mimetype": "text/x-python",
   "name": "python",
   "nbconvert_exporter": "python",
   "pygments_lexer": "ipython3",
   "version": "3.13.7"
  }
 },
 "nbformat": 4,
 "nbformat_minor": 1
}
