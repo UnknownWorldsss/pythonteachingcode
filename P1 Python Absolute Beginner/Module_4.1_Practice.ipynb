{
 "cells": [
  {
   "cell_type": "markdown",
   "metadata": {},
   "source": [
    "# P1M4: Module 4 Practice\n",
    "## Nested Conditionals\n",
    "<font size=\"5\" color=\"#00A0B2\"  face=\"verdana\"> <B>Student will be able to</B></font>\n",
    "- create nested conditional logic in code  \n",
    "- print format print using escape sequence (**\\**)"
   ]
  },
  {
   "cell_type": "markdown",
   "metadata": {},
   "source": [
    "# &nbsp;\n",
    "<font size=\"6\" color=\"#B24C00\"  face=\"verdana\"> <B>Tasks</B></font>  "
   ]
  },
  {
   "cell_type": "code",
   "execution_count": 1,
   "metadata": {},
   "outputs": [
    {
     "name": "stdout",
     "output_type": "stream",
     "text": [
      "The new line character is \"\\n\"\n"
     ]
    }
   ],
   "source": [
    "# [ ] print a string that outputs the following exactly: The new line character is \"\\n\"\n",
    "print('The new line character is \"\\\\n\"')\n"
   ]
  },
  {
   "cell_type": "code",
   "execution_count": 2,
   "metadata": {},
   "outputs": [
    {
     "name": "stdout",
     "output_type": "stream",
     "text": [
      "\"That's how we escape!\"\n"
     ]
    }
   ],
   "source": [
    "# [ ] print output that is exactly (with quotes): \"That's how we escape!\"\n",
    "print('\"That\\'s how we escape!\"')\n"
   ]
  },
  {
   "cell_type": "code",
   "execution_count": 3,
   "metadata": {},
   "outputs": [
    {
     "name": "stdout",
     "output_type": "stream",
     "text": [
      "1\tone\n",
      "22\ttwo\n",
      "333\tthree\n"
     ]
    }
   ],
   "source": [
    "# [ ] with only 1 print statement and using No Space Characters, output the text commented below  \n",
    "\n",
    "# 1       one\n",
    "# 22      two\n",
    "# 333     three\n",
    "print(\"1\\tone\\n22\\ttwo\\n333\\tthree\")\n"
   ]
  },
  {
   "cell_type": "markdown",
   "metadata": {},
   "source": [
    "# &nbsp;\n",
    "## Program: quote_me() Function\n",
    "quote_me takes a string argument and returns a string that will display surrounded with **added double quotes** if printed  \n",
    "- check if passed string starts with a double quote (`\"\\\"\"`), then surround string with single quotations \n",
    "- if the passed string starts with single quote, or if doesn't start with a quotation mark, then surround with double quotations  \n",
    "\n",
    "Test the function code passing string input as the argument to quote_me() "
   ]
  },
  {
   "cell_type": "code",
   "execution_count": null,
   "metadata": {},
   "outputs": [],
   "source": [
    "# [ ] create and test quote_me()\n",
    "def quote_me(phrase):\n",
    "    return '\"' + phrase + '\"'\n",
    "user_input = input(\"Enter a phrase: \")\n",
    "print(quote_me(user_input))\n",
    "\n"
   ]
  },
  {
   "cell_type": "markdown",
   "metadata": {},
   "source": [
    "# &nbsp;\n",
    "### Program: shirt order \n",
    "First get input for color and size  \n",
    "- White has sizes L, M \n",
    "- Blue has sizes M, S  \n",
    "\n",
    "print available or unavailable, then  \n",
    "print the order confirmation of color and size  \n",
    "\n",
    "*\n",
    "**hint**: set a variable \"available = False\" before nested if statements and  \n",
    "change to True if color and size are avaliable*"
   ]
  },
  {
   "cell_type": "code",
   "execution_count": null,
   "metadata": {},
   "outputs": [],
   "source": [
    "# [ ] create shirt order using nested if \n",
    "\n"
   ]
  },
  {
   "cell_type": "markdown",
   "metadata": {},
   "source": [
    "# &nbsp;\n",
    "## Program: str_analysis() Function\n",
    "Create the str_analysis() function that takes a string argument.  In the body of the function:\n",
    "- Check `if` string is digits  \n",
    "  - if digits: convert to `int` and check `if` greater than 99  \n",
    "    - if greater than 99, print a message about a \"big number\"  \n",
    "    - if not greater than 99, print message about \"small number\"    \n",
    "  - if not digits: check if string isalpha\n",
    "    - if isalpha print message about being all alpha\n",
    "    - if not isalpha print a message about being neither all alpha nor all digit  \n",
    "    \n",
    "call the function with a string from user input "
   ]
  },
  {
   "cell_type": "code",
   "execution_count": null,
   "metadata": {},
   "outputs": [],
   "source": [
    "# [ ] create and test str_analysis()\n",
    "def str_analysis(user_input):\n",
    "    if user_input.isdigit():\n",
    "        num = int(user_input)\n",
    "        if num > 99:\n",
    "            print(f\"{num} is a big number!\")\n",
    "        else:\n",
    "            print(f\"{num} is a small number.\")\n",
    "    elif user_input.isalpha():\n",
    "        print(f'\"{user_input}\" is all alphabetical characters.')\n",
    "    else:\n",
    "        print(f'\"{user_input}\" is neither all alpha nor all digit.')\n",
    "\n",
    "user_input = input(\"Enter a string for analysis: \")\n",
    "str_analysis(user_input)\n",
    "            "
   ]
  },
  {
   "cell_type": "markdown",
   "metadata": {
    "collapsed": true
   },
   "source": [
    "# &nbsp;  \n",
    "### Program: ticket_check() - finds out if a seat is available  \n",
    "Call ticket_check() function with 2 arguments: *section* and *seats* requested and return True or False  \n",
    "- **section** is a string and expects: general, floor\n",
    "- **seats** is an integer and expects: 1 - 10  \n",
    "\n",
    "Check for valid section and seats\n",
    "- if section is *general* (or use startswith \"g\")  \n",
    "  - if seats is 1-10 return True \n",
    "- if section is *floor* (or use starts with \"f\")\n",
    "  - if seats is 1-4 return True  \n",
    "\n",
    "otherwise return False"
   ]
  },
  {
   "cell_type": "code",
   "execution_count": 9,
   "metadata": {},
   "outputs": [
    {
     "name": "stdout",
     "output_type": "stream",
     "text": [
      "section is general and seats less than 10\n"
     ]
    },
    {
     "data": {
      "text/plain": [
       "True"
      ]
     },
     "execution_count": 9,
     "metadata": {},
     "output_type": "execute_result"
    }
   ],
   "source": [
    "# [ ] create and call ticket_check()\n",
    "# your full name should be in the input prompt \n",
    "#Call ticket_check() function with 2 arguments: section and seats requested and return True or False\n",
    "def ticket_check(section = None,seats = None):\n",
    "    '''\n",
    "    This function checks if a ticket is valid and returns True/False.\n",
    "    @param:section takes general or floor\n",
    "    '''\n",
    "    #TODO handle the situation in which user does not supply arguments; use input()\n",
    "    if section == None:\n",
    "        section = input(\"Dominic Thomas Which section? (general or floor): \")\n",
    "    \n",
    "    if seats == None:\n",
    "        seats = int(input(\"Seat number?: \"))\n",
    "    \n",
    "    section = section.lower()\n",
    "    if section == \"general\":\n",
    "        #TODO if seats is 1-10 return True\n",
    "        if seats >= 1 and seats <=10:\n",
    "            print(\"section is general and seats less than 10\")\n",
    "            return True\n",
    "        else:\n",
    "            return False\n",
    "    elif section == \"floor\":\n",
    "        #TODO if seats is 1-4 return True\n",
    "        if seats >= 1 and seats <= 4:\n",
    "            return True\n",
    "        else:\n",
    "            print(\"section was floor but seats not >= 1 and <5\")\n",
    "            return False\n",
    "    else:\n",
    "        print(\"section was not general or floor\")\n",
    "        return False\n",
    "    \n",
    "ticket_check()\n"
   ]
  },
  {
   "cell_type": "markdown",
   "metadata": {},
   "source": [
    "# Module 4 Practice 2\n",
    "## `while()` loops & increments\n",
    "<font size=\"5\" color=\"#00A0B2\"  face=\"verdana\"> <B>Student will be able to</B></font>\n",
    "- create forever loops using `while` and `break`\n",
    "- use incrementing variables in a while loop\n",
    "- control while loops using Boolean operators"
   ]
  },
  {
   "cell_type": "code",
   "execution_count": null,
   "metadata": {},
   "outputs": [],
   "source": [
    "# [ ] use a \"forever\" while loop to get user input of integers to add to sum, \n",
    "# until a non-digit is entered, then break the loop and print sum\n",
    "sum = 0\n",
    "while True:\n",
    "    user_input = input(\"Enter an integer to add to sum (or a non-digit to stop): \")\n",
    "    if user_input.isdigit():\n",
    "        sum += int(user_input)\n",
    "    else:\n",
    "        break\n",
    "print(\"The total sum is:\", sum)\n"
   ]
  },
  {
   "cell_type": "code",
   "execution_count": null,
   "metadata": {},
   "outputs": [],
   "source": [
    "# [ ] use a while True loop (forever loop) to give 4 chances for input of a correct color in a rainbow\n",
    "# rainbow = \"red orange yellow green blue indigo violet\"\n",
    "rainbow = [\"red\", \"orange\", \"yellow\", \"green\", \"blue\", \"indigo\", \"violet\"]\n",
    "attempts = 4\n",
    "while True:\n",
    "    color = input(\"Enter a color in the rainbow: \").lower()\n",
    "    if color in rainbow:\n",
    "        print(color in rainbow)\n",
    "        break\n",
    "    else:\n",
    "        attempts -= 1\n",
    "        if attempts == 0:\n",
    "            print(\"Sorry, you've used all your attempts.\")\n",
    "            break\n",
    "        print(color + \" is not in the rainbow. You have \" + str(attempts) + \" attempts left.\")\n"
   ]
  },
  {
   "cell_type": "code",
   "execution_count": null,
   "metadata": {},
   "outputs": [],
   "source": [
    "# [ ] Get input for a book title, keep looping while input is Not in title format (title is every word capitalized)\n",
    "title = \"\"\n",
    "while True:\n",
    "    title = input(\"Enter a book title (each word capitalized): \")\n",
    "    if title.istitle():\n",
    "        print(\"Thank you for entering a valid book title:\", title)\n",
    "        break\n",
    "    else:\n",
    "        print(\"Invalid title format. Please ensure each word is capitalized.\")\n"
   ]
  },
  {
   "cell_type": "code",
   "execution_count": null,
   "metadata": {},
   "outputs": [],
   "source": [
    "# [ ] create a math quiz question and ask for the solution until the input is correct\n",
    "correct_answer = 13\n",
    "while True:\n",
    "    user_answer = input(\"What is 6 + 7? \")\n",
    "    if user_answer.isdigit() and int(user_answer) == correct_answer:\n",
    "        print(\"Correct!\")\n",
    "        break\n",
    "    else:\n",
    "        print(\"Incorrect. Please try again.\")\n"
   ]
  },
  {
   "cell_type": "markdown",
   "metadata": {},
   "source": [
    "### Fix the Error"
   ]
  },
  {
   "cell_type": "code",
   "execution_count": 10,
   "metadata": {},
   "outputs": [
    {
     "name": "stdout",
     "output_type": "stream",
     "text": [
      "You win!\n",
      "Game ended\n"
     ]
    }
   ],
   "source": [
    "# [ ] review the code, run, fix the error\n",
    "tickets = input(\"enter tickets remaining (0 to quit): \")\n",
    "\n",
    "while int(tickets) > 0:\n",
    "    # if tickets are multiple of 3 then \"winner\"\n",
    "    if int(tickets) % 3 == 0:\n",
    "        print(\"You win!\")\n",
    "        break\n",
    "    else:\n",
    "        print(\"Sorry, not a winner.\")\n",
    "    tickets = input(\"Enter tickets remaining (0 to quit): \")\n",
    "\n",
    "print(\"Game ended\")\n",
    "    \n"
   ]
  },
  {
   "cell_type": "markdown",
   "metadata": {},
   "source": [
    "### create a function: quiz_item()  that asks a question and tests if input is correct  \n",
    "- quiz_item()has 2 parameter **strings**: question and solution  \n",
    "- shows question, gets answer input  \n",
    "- returns True if `answer == solution` or continues to ask question until correct answer is provided  \n",
    "- use a while loop\n",
    "\n",
    "create 2 or more quiz questions that call quiz_item()  \n",
    "**Hint**: provide multiple choice or T/F answers"
   ]
  },
  {
   "cell_type": "code",
   "execution_count": null,
   "metadata": {},
   "outputs": [],
   "source": [
    "# Create quiz_item() and 2 or more quiz questions that call quiz_item()\n",
    "def quiz_item(question, solution):\n",
    "    while True:\n",
    "        answer = input(question + \" \")\n",
    "        if answer.lower() == solution.lower():\n",
    "            print(\"Correct!\")\n",
    "            return True\n",
    "        else:\n",
    "            print(\"Incorrect. Try again.\")\n",
    "#quiz_item()has 2 parameter strings: question and solution\n",
    "\n",
    "quiz_item(\"True or False: Python is a programming language (T/F):\", \"T\")\n",
    "\n",
    "quiz_item(\"What does 'print()' do? (a) deletes text (b) displays text (c) saves text:\", \"b\")\n"
   ]
  },
  {
   "cell_type": "markdown",
   "metadata": {
    "collapsed": true
   },
   "source": [
    "[Terms of use](http://go.microsoft.com/fwlink/?LinkID=206977) &nbsp; [Privacy & cookies](https://go.microsoft.com/fwlink/?LinkId=521839) &nbsp; © 2017 Microsoft"
   ]
  }
 ],
 "metadata": {
  "anaconda-cloud": {},
  "kernelspec": {
   "display_name": "Python 3",
   "language": "python",
   "name": "python3"
  },
  "language_info": {
   "codemirror_mode": {
    "name": "ipython",
    "version": 3
   },
   "file_extension": ".py",
   "mimetype": "text/x-python",
   "name": "python",
   "nbconvert_exporter": "python",
   "pygments_lexer": "ipython3",
   "version": "3.13.7"
  }
 },
 "nbformat": 4,
 "nbformat_minor": 1
}
