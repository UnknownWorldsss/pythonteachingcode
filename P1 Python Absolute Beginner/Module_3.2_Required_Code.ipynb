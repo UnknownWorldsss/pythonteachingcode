{
  "cells": [
    {
      "attachments": {},
      "cell_type": "markdown",
      "metadata": {
        "collapsed": true
      },
      "source": [
        "#  P1M3: Module 3 Required Coding Activity  \n",
        "Introduction to Python Unit 1 \n",
        "\n",
        "This is an activity based on code similar to Tutorial and Practice code you should have completed already.\n",
        "\n",
        ">This program requires the use of **`if, elif, else`**, and casting between strings and numbers. The program should use the various code syntax covered in module 3.  \n",
        "> \n",
        ">The program must result in print output using numeric input similar to that shown in the sample below.\n",
        ">You must include your full name in the input prompt (meaning it needs to be spelled out in the code file). See sample below for more detail.\n",
        "\n",
        "## Program: Cheese Order Function   \n",
        "- define function with max, min, price, and order_amount parameters\n",
        "- set default values for maximum and minimum order parameters  \n",
        "- set default value for price parameter\n",
        "- cast order_amount and other arguments to numbers  \n",
        "- check order_amount and give message checking against  \n",
        "  - over maximum\n",
        "  - under minimum\n",
        "- else within maximum and minimum give message with calculated price \n",
        "- call your function using order weight input from user\n",
        "\n",
        "\n",
        "Sample input and output:\n",
        "```\n",
        "[YOUR FULL NAME GOES HERE], enter cheese order weight (numeric value): 113\n",
        "113.0 is more than currently available stock\n",
        "```\n",
        "\n",
        "```\n",
        "[YOUR FULL NAME GOES HERE], enter cheese order weight (numeric value): .15\n",
        "0.15 is below minimum order amount\n",
        "```  \n",
        "\n",
        "```\n",
        "[YOUR FULL NAME GOES HERE], enter cheese order weight (numeric value): 2\n",
        "2.0 costs $15.98\n",
        "```  "
      ]
    },
    {
      "cell_type": "code",
      "execution_count": 9,
      "metadata": {
        "trusted": false
      },
      "outputs": [
        {
          "name": "stdout",
          "output_type": "stream",
          "text": [
            "50 costs $500\n"
          ]
        }
      ],
      "source": [
        "# [ ] create function, call and test\n",
        "def cheese_order(order_amount, max=100, min=0.5, price=10):\n",
        "    order_amount = int(order_amount)\n",
        "    if order_amount > max:\n",
        "        return print(str(order_amount) + \" is more than currently available stock\")\n",
        "    elif order_amount < min:\n",
        "        return print(str(order_amount) + \" is below minimum order amount\")\n",
        "    else:\n",
        "        total_cost = int(order_amount) * int(price)\n",
        "        return print(str(order_amount) + \" costs $\" + str(total_cost))\n",
        "\n",
        "user_input = input(\"Seth Cannella, enter cheese order weight (numeric value): \")\n",
        "cheese_order(user_input)"
      ]
    },
    {
      "cell_type": "markdown",
      "metadata": {},
      "source": [
        "Submit this by creating a python file (.py) and submitting it in D2L. Be sure to test that it works."
      ]
    }
  ],
  "metadata": {
    "kernelspec": {
      "display_name": "Python 3",
      "language": "python",
      "name": "python3"
    },
    "language_info": {
      "codemirror_mode": {
        "name": "ipython",
        "version": 3
      },
      "file_extension": ".py",
      "mimetype": "text/x-python",
      "name": "python",
      "nbconvert_exporter": "python",
      "pygments_lexer": "ipython3",
      "version": "3.13.7"
    }
  },
  "nbformat": 4,
  "nbformat_minor": 1
}
